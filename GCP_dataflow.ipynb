{
 "cells": [
  {
   "cell_type": "code",
   "execution_count": null,
   "metadata": {},
   "outputs": [],
   "source": [
    "from __future__ import absolute_import\n",
    "import argparse\n",
    "import logging\n",
    "import re\n",
    "import apache_beam as beam\n",
    "from apache_beam.options.pipeline_options import PipelineOptions\n",
    "import os\n",
    "import google.auth\n",
    "from apache_beam.options import pipeline_options\n",
    "from apache_beam.options.pipeline_options import GoogleCloudOptions\n",
    "from apache_beam.runners import DataflowRunner"
   ]
  },
  {
   "cell_type": "code",
   "execution_count": null,
   "metadata": {},
   "outputs": [],
   "source": [
    "\n",
    "def Split(element):\n",
    "    return element.split(\",\")"
   ]
  },
  {
   "cell_type": "code",
   "execution_count": null,
   "metadata": {},
   "outputs": [],
   "source": [
    "# Returns a list of tuples containing  1 (key) and Rating value. \n",
    "# This form the input to GroupByKey, which takes (key,value) pair as input\n",
    "\n",
    "def ExtractRating(element):\n",
    "    result = [(1, element['Rating']) ]\n",
    "    return result"
   ]
  },
  {
   "cell_type": "code",
   "execution_count": null,
   "metadata": {},
   "outputs": [],
   "source": [
    "# Returns a list of tuples containing the 1 (key) and Name value\n",
    "# This form the input to GroupByKey, which takes (key,value) pair as input\n",
    "\n",
    "def ExtractName(element):\n",
    "    result = [(1, element['Name'])]\n",
    "    return result"
   ]
  },
  {
   "cell_type": "code",
   "execution_count": null,
   "metadata": {},
   "outputs": [],
   "source": [
    "#Function to filter elements based on the GenreName applied\n",
    "def FilterBasedonGenre(GenreName,element):\n",
    "    return element['Genre']==GenreName"
   ]
  },
  {
   "cell_type": "code",
   "execution_count": null,
   "metadata": {},
   "outputs": [],
   "source": [
    "def FormatText(elem):\n",
    "    return 'AVERAGE RATING OF BOOKS:'+str(elem[1])"
   ]
  },
  {
   "cell_type": "code",
   "execution_count": null,
   "metadata": {},
   "outputs": [],
   "source": [
    "class AverageFn(beam.CombineFn):\n",
    "  \n",
    "    def create_accumulator(self):\n",
    "        return (0.0, 0)   # initialize (sum, count)\n",
    "\n",
    "    def add_input(self, sum_count, inputt):\n",
    "        (summ, count) = sum_count\n",
    "        (summ2, c2) = inputt\n",
    "        return summ + float(summ2)*c2, count + c2\n",
    "\n",
    "    def merge_accumulators(self, accumulators):\n",
    "    \n",
    "        ind_sums, ind_counts = zip(*accumulators)       # zip - [(27, 3), (39, 3), (18, 2)]  -->   [(27,39,18), (3,3,2)]\n",
    "        return sum(ind_sums), sum(ind_counts)        # (84,8)\n",
    "\n",
    "    def extract_output(self, sum_count):    \n",
    "    \n",
    "        (summ, count) = sum_count    # combine globally using CombineFn\n",
    "        return summ / count if count else float('NaN')"
   ]
  },
  {
   "cell_type": "code",
   "execution_count": null,
   "metadata": {},
   "outputs": [],
   "source": [
    "def f_mean(element):\n",
    "    (summ,count)=element\n",
    "    return (summ*count,count)\n",
    "def accumulate(element):\n",
    "    ind_sums, ind_counts = zip(*element)\n",
    "    return sum(ind_sums), sum(ind_counts)\n",
    "def op(s_count):\n",
    "    (summ2,c2)=ind_counts\n",
    "    return summ2/c2 if count else float('NaN')"
   ]
  },
  {
   "cell_type": "code",
   "execution_count": null,
   "metadata": {},
   "outputs": [],
   "source": [
    "options = PipelineOptions()\n",
    "#p = beam.Pipeline(options=options)\n",
    "p = beam.Pipeline(InteractiveRunner())\n",
    "p2 = beam.Pipeline(InteractiveRunner())"
   ]
  },
  {
   "cell_type": "code",
   "execution_count": null,
   "metadata": {},
   "outputs": [],
   "source": [
    "# Setting up the Apache Beam pipeline options.\n",
    "options = pipeline_options.PipelineOptions(flags=[])\n",
    "\n",
    "# Sets the project to the default project in your current Google Cloud environment.\n",
    "_, options.view_as(GoogleCloudOptions).project = google.auth.default()\n",
    "\n",
    "# Sets the Google Cloud Region in which Cloud Dataflow runs.\n",
    "options.view_as(GoogleCloudOptions).region = 'us-central1'"
   ]
  },
  {
   "cell_type": "code",
   "execution_count": null,
   "metadata": {},
   "outputs": [],
   "source": [
    "dataflow_gcs_location = 'gs://proj_mtree/dataflow'"
   ]
  },
  {
   "cell_type": "code",
   "execution_count": null,
   "metadata": {},
   "outputs": [],
   "source": [
    "options.view_as(GoogleCloudOptions).staging_location = '%s/staging' % dataflow_gcs_location\n",
    "\n",
    "# Dataflow Temp Location. This location is used to store temporary files or intermediate results before finally outputting to the sink.\n",
    "options.view_as(GoogleCloudOptions).temp_location = '%s/temp' % dataflow_gcs_location"
   ]
  },
  {
   "cell_type": "code",
   "execution_count": null,
   "metadata": {},
   "outputs": [],
   "source": [
    "client = bigquery.Client()\n",
    "\n",
    "dataset_id = \"mind10.flowtobq\"\n",
    "\n",
    "#dataset = bigquery.Dataset(dataset_id)\n",
    "\n",
    "dataset.location = \"US\"\n",
    "dataset.description = \"dataset for food orders\"\n",
    "\n",
    "#dataset_ref = client.create_dataset(dataset, timeout = 30)\n",
    "\n",
    "def to_json(csv_str):\n",
    "    fields = csv_str.split(',')\n",
    "\n",
    "    json_str = {\"Name\":fields[0],\n",
    "                 \"Author\": fields[1],\n",
    "                 \"User_Rating\": fields[2],\n",
    "                 \"Reviews\": fields[3],\n",
    "                 \"Price\": fields[4],\n",
    "                 \"Year\": fields[5],\n",
    "                 \"Genre\": fields[6],\n",
    "                 \n",
    "                 }\n",
    "\n",
    "    return json_str\n",
    "\n",
    "table_schema = 'Name:STRING,Author:STRING,User_Rating:FLOAT,Reviews:INTEGER,Price:Integer,Year:Integer,Genre:STRING'\n",
    "\n",
    "bs = (p2 | beam.io.ReadFromText(\"gs://rr005/clean_books_amazon.csv\"))\n",
    "(bs | 'cleaned_data to json' >> beam.Map(to_json)\n",
    "| 'write to bigquery' >> beam.io.WriteToBigQuery(\n",
    "\"mind10:flowtobq.t2\",\n",
    "schema=table_schema,\n",
    "create_disposition=beam.io.BigQueryDisposition.CREATE_IF_NEEDED,\n",
    "write_disposition=beam.io.BigQueryDisposition.WRITE_APPEND,\n",
    "custom_gcs_temp_location=\"gs://proj_mtree/dataflow/temp\"\n",
    "\n",
    ")\n",
    "\n",
    ")\n",
    "\n",
    "from apache_beam.runners.runner import PipelineState\n",
    "ret = p2.run()\n",
    "if ret.state == PipelineState.DONE:\n",
    "    print('Success!!!')\n",
    "else:\n",
    "    print('Error Running beam pipeline')"
   ]
  },
  {
   "cell_type": "code",
   "execution_count": null,
   "metadata": {},
   "outputs": [],
   "source": [
    "books = ( p | beam.io.ReadFromText(\"gs://rr005/clean_books_amazon.csv\") | beam.Map(Split) )"
   ]
  },
  {
   "cell_type": "code",
   "execution_count": null,
   "metadata": {},
   "outputs": [],
   "source": [
    "res1 = (\n",
    "    books\n",
    "    | beam.Filter(lambda rec : rec[6]==\"Fiction\")\n",
    "    | beam.Map(lambda rec: (rec[2], 1))\n",
    "    | \"Grouping keys\" >> beam.CombinePerKey(sum) \n",
    "#    | beam.Map(f_mean)\n",
    "#    | beam.Map(accumulate)\n",
    "#    | beam.Map(op)\n",
    "    | \"Combine Globally\" >> beam.CombineGlobally(AverageFn())\n",
    "#     | \"Calculating mean\" >> beam.CombineValues(beam.combiners.MeanCombineFn())\n",
    "#     | \"Apply Formatting\" >> beam.Map(FormatText)\n",
    "    | \"write\" >> beam.io.WriteToText(\"gs://proj_mtree/Fiction_Result1\")\n",
    ")"
   ]
  },
  {
   "cell_type": "code",
   "execution_count": null,
   "metadata": {},
   "outputs": [],
   "source": [
    "pipeline_result = DataflowRunner().run_pipeline(p, options=options)"
   ]
  },
  {
   "cell_type": "code",
   "execution_count": null,
   "metadata": {},
   "outputs": [],
   "source": [
    "from IPython.core.display import display, HTML\n",
    "url = ('https://console.cloud.google.com/dataflow/jobs/%s/%s?project=%s' % \n",
    "      (pipeline_result._job.location, pipeline_result._job.id, pipeline_result._job.projectId))\n",
    "display(HTML('Click <a href=\"%s\" target=\"_new\">here</a> for the details of your Dataflow job!' % url))"
   ]
  },
  {
   "cell_type": "code",
   "execution_count": null,
   "metadata": {},
   "outputs": [],
   "source": []
  }
 ],
 "metadata": {
  "kernelspec": {
   "display_name": "Python 3",
   "language": "python",
   "name": "python3"
  },
  "language_info": {
   "codemirror_mode": {
    "name": "ipython",
    "version": 3
   },
   "file_extension": ".py",
   "mimetype": "text/x-python",
   "name": "python",
   "nbconvert_exporter": "python",
   "pygments_lexer": "ipython3",
   "version": "3.8.5"
  }
 },
 "nbformat": 4,
 "nbformat_minor": 4
}
